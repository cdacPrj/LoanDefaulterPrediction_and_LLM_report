{
 "cells": [
  {
   "cell_type": "code",
   "execution_count": 1,
   "metadata": {
    "id": "iIjBLPoHDQhm"
   },
   "outputs": [
    {
     "name": "stderr",
     "output_type": "stream",
     "text": [
      "C:\\Users\\rusha\\AppData\\Local\\Programs\\Python\\Python312\\Lib\\site-packages\\sklearn\\base.py:376: InconsistentVersionWarning: Trying to unpickle estimator DecisionTreeClassifier from version 1.6.1 when using version 1.5.2. This might lead to breaking code or invalid results. Use at your own risk. For more info please refer to:\n",
      "https://scikit-learn.org/stable/model_persistence.html#security-maintainability-limitations\n",
      "  warnings.warn(\n",
      "C:\\Users\\rusha\\AppData\\Local\\Programs\\Python\\Python312\\Lib\\site-packages\\sklearn\\base.py:376: InconsistentVersionWarning: Trying to unpickle estimator RandomForestClassifier from version 1.6.1 when using version 1.5.2. This might lead to breaking code or invalid results. Use at your own risk. For more info please refer to:\n",
      "https://scikit-learn.org/stable/model_persistence.html#security-maintainability-limitations\n",
      "  warnings.warn(\n"
     ]
    }
   ],
   "source": [
    "import joblib\n",
    "\n",
    "\n",
    "# Load the model\n",
    "model = joblib.load(r\"C:\\Users\\rusha\\Documents\\CDAC\\Project\\random_forest_modelv2\")\n",
    "\n"
   ]
  },
  {
   "cell_type": "code",
   "execution_count": 2,
   "metadata": {
    "id": "x-CjBzES0DwT"
   },
   "outputs": [],
   "source": [
    "import numpy as np\n",
    "import pandas as pd\n",
    "l=[26, 131427, 126783, 502, 40, 3, 8.9, 60, 0.87, 0, 0, 1, False,\n",
    "       False, True, False, True, False, False, False, True, False, False,\n",
    "       False, False, True, False, False]"
   ]
  },
  {
   "cell_type": "code",
   "execution_count": 3,
   "metadata": {
    "id": "sFVeS65C01M3"
   },
   "outputs": [],
   "source": [
    "inp=np.array(l)"
   ]
  },
  {
   "cell_type": "code",
   "execution_count": 4,
   "metadata": {
    "colab": {
     "base_uri": "https://localhost:8080/"
    },
    "id": "-ejFpl5CzG9d",
    "outputId": "9ac5ab93-e8cc-4604-fa09-38aad14c990a"
   },
   "outputs": [
    {
     "name": "stderr",
     "output_type": "stream",
     "text": [
      "C:\\Users\\rusha\\AppData\\Local\\Programs\\Python\\Python312\\Lib\\site-packages\\sklearn\\base.py:493: UserWarning: X does not have valid feature names, but RandomForestClassifier was fitted with feature names\n",
      "  warnings.warn(\n"
     ]
    }
   ],
   "source": [
    "pred=model.predict(inp.reshape(1, -1))"
   ]
  },
  {
   "cell_type": "code",
   "execution_count": 5,
   "metadata": {
    "colab": {
     "base_uri": "https://localhost:8080/"
    },
    "id": "kxWqcuG21Hns",
    "outputId": "bf0b4c93-8ba8-40c9-94f5-cdc1e97594d6"
   },
   "outputs": [
    {
     "name": "stdout",
     "output_type": "stream",
     "text": [
      "0:  0.16333333333333333 1:  0.8366666666666667\n"
     ]
    },
    {
     "name": "stderr",
     "output_type": "stream",
     "text": [
      "C:\\Users\\rusha\\AppData\\Local\\Programs\\Python\\Python312\\Lib\\site-packages\\sklearn\\base.py:493: UserWarning: X does not have valid feature names, but RandomForestClassifier was fitted with feature names\n",
      "  warnings.warn(\n"
     ]
    }
   ],
   "source": [
    "opt=model.predict_proba(inp.reshape(1, -1))\n",
    "# opt\n",
    "print('0: ', opt[0][0], '1: ', opt[0][1])"
   ]
  },
  {
   "cell_type": "code",
   "execution_count": 6,
   "metadata": {
    "colab": {
     "base_uri": "https://localhost:8080/"
    },
    "id": "DzjLuRlD4Qvx",
    "outputId": "0639f6e9-6490-4720-825b-d7d3ea3bcc63"
   },
   "outputs": [
    {
     "data": {
      "text/plain": [
       "array([1])"
      ]
     },
     "execution_count": 6,
     "metadata": {},
     "output_type": "execute_result"
    }
   ],
   "source": [
    "pred"
   ]
  },
  {
   "cell_type": "code",
   "execution_count": 7,
   "metadata": {
    "colab": {
     "base_uri": "https://localhost:8080/",
     "height": 158
    },
    "id": "TtCBu5Yk1e0L",
    "outputId": "d6127720-78b0-47cd-f536-05a29ec0af42"
   },
   "outputs": [
    {
     "ename": "AttributeError",
     "evalue": "'RandomForestClassifier' object has no attribute 'get_feature_importance'",
     "output_type": "error",
     "traceback": [
      "\u001b[1;31m---------------------------------------------------------------------------\u001b[0m",
      "\u001b[1;31mAttributeError\u001b[0m                            Traceback (most recent call last)",
      "Cell \u001b[1;32mIn[7], line 2\u001b[0m\n\u001b[0;32m      1\u001b[0m \u001b[38;5;66;03m# feature importance\u001b[39;00m\n\u001b[1;32m----> 2\u001b[0m \u001b[43mmodel\u001b[49m\u001b[38;5;241;43m.\u001b[39;49m\u001b[43mget_feature_importance\u001b[49m()\n",
      "\u001b[1;31mAttributeError\u001b[0m: 'RandomForestClassifier' object has no attribute 'get_feature_importance'"
     ]
    }
   ],
   "source": [
    "# feature importance\n",
    "model.get_feature_importance()"
   ]
  },
  {
   "cell_type": "code",
   "execution_count": 12,
   "metadata": {},
   "outputs": [
    {
     "name": "stdout",
     "output_type": "stream",
     "text": [
      "Collecting shap\n",
      "  Downloading shap-0.46.0-cp312-cp312-win_amd64.whl.metadata (25 kB)\n",
      "Requirement already satisfied: numpy in c:\\users\\rusha\\appdata\\local\\programs\\python\\python312\\lib\\site-packages (from shap) (2.0.2)\n",
      "Requirement already satisfied: scipy in c:\\users\\rusha\\appdata\\local\\programs\\python\\python312\\lib\\site-packages (from shap) (1.14.1)\n",
      "Requirement already satisfied: scikit-learn in c:\\users\\rusha\\appdata\\local\\programs\\python\\python312\\lib\\site-packages (from shap) (1.5.2)\n",
      "Requirement already satisfied: pandas in c:\\users\\rusha\\appdata\\local\\programs\\python\\python312\\lib\\site-packages (from shap) (2.2.3)\n",
      "Requirement already satisfied: tqdm>=4.27.0 in c:\\users\\rusha\\appdata\\local\\programs\\python\\python312\\lib\\site-packages (from shap) (4.67.0)\n",
      "Requirement already satisfied: packaging>20.9 in c:\\users\\rusha\\appdata\\local\\programs\\python\\python312\\lib\\site-packages (from shap) (24.1)\n",
      "Collecting slicer==0.0.8 (from shap)\n",
      "  Downloading slicer-0.0.8-py3-none-any.whl.metadata (4.0 kB)\n",
      "Collecting numba (from shap)\n",
      "  Downloading numba-0.61.0-cp312-cp312-win_amd64.whl.metadata (2.8 kB)\n",
      "Collecting cloudpickle (from shap)\n",
      "  Downloading cloudpickle-3.1.1-py3-none-any.whl.metadata (7.1 kB)\n",
      "Requirement already satisfied: colorama in c:\\users\\rusha\\appdata\\local\\programs\\python\\python312\\lib\\site-packages (from tqdm>=4.27.0->shap) (0.4.6)\n",
      "Collecting llvmlite<0.45,>=0.44.0dev0 (from numba->shap)\n",
      "  Downloading llvmlite-0.44.0-cp312-cp312-win_amd64.whl.metadata (5.0 kB)\n",
      "Requirement already satisfied: python-dateutil>=2.8.2 in c:\\users\\rusha\\appdata\\local\\programs\\python\\python312\\lib\\site-packages (from pandas->shap) (2.9.0.post0)\n",
      "Requirement already satisfied: pytz>=2020.1 in c:\\users\\rusha\\appdata\\local\\programs\\python\\python312\\lib\\site-packages (from pandas->shap) (2024.2)\n",
      "Requirement already satisfied: tzdata>=2022.7 in c:\\users\\rusha\\appdata\\local\\programs\\python\\python312\\lib\\site-packages (from pandas->shap) (2024.2)\n",
      "Requirement already satisfied: joblib>=1.2.0 in c:\\users\\rusha\\appdata\\local\\programs\\python\\python312\\lib\\site-packages (from scikit-learn->shap) (1.4.2)\n",
      "Requirement already satisfied: threadpoolctl>=3.1.0 in c:\\users\\rusha\\appdata\\local\\programs\\python\\python312\\lib\\site-packages (from scikit-learn->shap) (3.5.0)\n",
      "Requirement already satisfied: six>=1.5 in c:\\users\\rusha\\appdata\\local\\programs\\python\\python312\\lib\\site-packages (from python-dateutil>=2.8.2->pandas->shap) (1.16.0)\n",
      "Downloading shap-0.46.0-cp312-cp312-win_amd64.whl (456 kB)\n",
      "Downloading slicer-0.0.8-py3-none-any.whl (15 kB)\n",
      "Downloading cloudpickle-3.1.1-py3-none-any.whl (20 kB)\n",
      "Downloading numba-0.61.0-cp312-cp312-win_amd64.whl (2.8 MB)\n",
      "   ---------------------------------------- 0.0/2.8 MB ? eta -:--:--\n",
      "   --------------------------------- ------ 2.4/2.8 MB 11.2 MB/s eta 0:00:01\n",
      "   ---------------------------------------- 2.8/2.8 MB 9.1 MB/s eta 0:00:00\n",
      "Downloading llvmlite-0.44.0-cp312-cp312-win_amd64.whl (30.3 MB)\n",
      "   ---------------------------------------- 0.0/30.3 MB ? eta -:--:--\n",
      "   --- ------------------------------------ 2.4/30.3 MB 11.2 MB/s eta 0:00:03\n",
      "   ----- ---------------------------------- 4.5/30.3 MB 11.2 MB/s eta 0:00:03\n",
      "   ------- -------------------------------- 6.0/30.3 MB 9.5 MB/s eta 0:00:03\n",
      "   ---------- ----------------------------- 8.1/30.3 MB 9.5 MB/s eta 0:00:03\n",
      "   ------------ --------------------------- 9.2/30.3 MB 9.0 MB/s eta 0:00:03\n",
      "   ------------- -------------------------- 10.2/30.3 MB 8.1 MB/s eta 0:00:03\n",
      "   --------------- ------------------------ 11.8/30.3 MB 8.1 MB/s eta 0:00:03\n",
      "   ----------------- ---------------------- 13.1/30.3 MB 7.9 MB/s eta 0:00:03\n",
      "   ------------------- -------------------- 14.4/30.3 MB 7.7 MB/s eta 0:00:03\n",
      "   -------------------- ------------------- 15.7/30.3 MB 7.4 MB/s eta 0:00:02\n",
      "   --------------------- ------------------ 16.3/30.3 MB 7.1 MB/s eta 0:00:02\n",
      "   ----------------------- ---------------- 17.6/30.3 MB 7.0 MB/s eta 0:00:02\n",
      "   ------------------------ --------------- 18.6/30.3 MB 6.9 MB/s eta 0:00:02\n",
      "   ------------------------- -------------- 19.7/30.3 MB 6.7 MB/s eta 0:00:02\n",
      "   --------------------------- ------------ 20.7/30.3 MB 6.6 MB/s eta 0:00:02\n",
      "   ---------------------------- ----------- 21.2/30.3 MB 6.5 MB/s eta 0:00:02\n",
      "   ---------------------------- ----------- 21.5/30.3 MB 6.2 MB/s eta 0:00:02\n",
      "   ---------------------------- ----------- 21.8/30.3 MB 5.8 MB/s eta 0:00:02\n",
      "   ----------------------------- ---------- 22.0/30.3 MB 5.6 MB/s eta 0:00:02\n",
      "   ----------------------------- ---------- 22.5/30.3 MB 5.4 MB/s eta 0:00:02\n",
      "   ------------------------------ --------- 23.3/30.3 MB 5.3 MB/s eta 0:00:02\n",
      "   ------------------------------- -------- 23.9/30.3 MB 5.3 MB/s eta 0:00:02\n",
      "   -------------------------------- ------- 24.6/30.3 MB 5.1 MB/s eta 0:00:02\n",
      "   --------------------------------- ------ 25.2/30.3 MB 5.1 MB/s eta 0:00:02\n",
      "   --------------------------------- ------ 25.7/30.3 MB 4.9 MB/s eta 0:00:01\n",
      "   ----------------------------------- ---- 26.7/30.3 MB 4.9 MB/s eta 0:00:01\n",
      "   ------------------------------------ --- 27.5/30.3 MB 4.9 MB/s eta 0:00:01\n",
      "   ------------------------------------- -- 28.6/30.3 MB 4.9 MB/s eta 0:00:01\n",
      "   ---------------------------------------  30.1/30.3 MB 5.0 MB/s eta 0:00:01\n",
      "   ---------------------------------------- 30.3/30.3 MB 4.9 MB/s eta 0:00:00\n",
      "Installing collected packages: slicer, llvmlite, cloudpickle, numba, shap\n",
      "Successfully installed cloudpickle-3.1.1 llvmlite-0.44.0 numba-0.61.0 shap-0.46.0 slicer-0.0.8\n"
     ]
    },
    {
     "name": "stderr",
     "output_type": "stream",
     "text": [
      "\n",
      "[notice] A new release of pip is available: 24.2 -> 25.0\n",
      "[notice] To update, run: python.exe -m pip install --upgrade pip\n"
     ]
    }
   ],
   "source": [
    "!pip install shap"
   ]
  },
  {
   "cell_type": "code",
   "execution_count": null,
   "metadata": {
    "colab": {
     "base_uri": "https://localhost:8080/"
    },
    "id": "THsdMj-HgnPd",
    "outputId": "d2b2cb61-78e7-42a2-9359-cd3dc0561331"
   },
   "outputs": [
    {
     "data": {
      "text/plain": [
       "(1, 28)"
      ]
     },
     "execution_count": 20,
     "metadata": {},
     "output_type": "execute_result"
    }
   ],
   "source": [
    "inp.shape"
   ]
  },
  {
   "cell_type": "code",
   "execution_count": null,
   "metadata": {
    "colab": {
     "base_uri": "https://localhost:8080/"
    },
    "id": "OCfK0hRQgg8B",
    "outputId": "caa670b1-1142-4608-e1d8-f9d6f071d1b7"
   },
   "outputs": [
    {
     "data": {
      "text/plain": [
       "(28, 2)"
      ]
     },
     "execution_count": 22,
     "metadata": {},
     "output_type": "execute_result"
    }
   ],
   "source": [
    "shap_values[0].shape"
   ]
  },
  {
   "cell_type": "code",
   "execution_count": 18,
   "metadata": {},
   "outputs": [],
   "source": [
    "columnNames=['Age', 'Income', 'LoanAmount', 'CreditScore', 'MonthsEmployed',\n",
    "       'NumCreditLines', 'InterestRate', 'LoanTerm', 'DTIRatio', 'HasMortgage',\n",
    "       'HasDependents', 'HasCoSigner', 'EmploymentType_Full-time',\n",
    "       'EmploymentType_Part-time', 'EmploymentType_Self-employed',\n",
    "       'EmploymentType_Unemployed', 'MaritalStatus_Divorced',\n",
    "       'MaritalStatus_Married', 'MaritalStatus_Single', 'LoanPurpose_Auto',\n",
    "       'LoanPurpose_Business', 'LoanPurpose_Education', 'LoanPurpose_Home',\n",
    "       'LoanPurpose_Other', \"Education_Bachelor's\", 'Education_High School',\n",
    "       \"Education_Master's\", 'Education_PhD']"
   ]
  },
  {
   "cell_type": "code",
   "execution_count": 19,
   "metadata": {
    "colab": {
     "base_uri": "https://localhost:8080/",
     "height": 211
    },
    "id": "3Gz2jduk8Jml",
    "outputId": "6ae13128-34ff-4fb6-ce86-9460501368e7"
   },
   "outputs": [
    {
     "name": "stdout",
     "output_type": "stream",
     "text": [
      "{'Age': np.float64(0.1325479188421145), 'Income': np.float64(0.03525407323384819), 'LoanAmount': np.float64(0.012203613914536428), 'CreditScore': np.float64(0.01944015828364882), 'MonthsEmployed': np.float64(0.06622955356082134), 'NumCreditLines': np.float64(0.02259081401597084), 'InterestRate': np.float64(0.05757943339419069), 'LoanTerm': np.float64(0.01145500194453327), 'DTIRatio': np.float64(0.030253562250931877), 'HasMortgage': np.float64(0.009896645981100616), 'HasDependents': np.float64(0.02773729677917524), 'HasCoSigner': np.float64(0.005691056399092096), 'EmploymentType_Full-time': np.float64(0.013442921851607444), 'EmploymentType_Part-time': np.float64(0.003629560241586874), 'EmploymentType_Self-employed': np.float64(0.008854610833179899), 'EmploymentType_Unemployed': np.float64(0.005127312634648898), 'MaritalStatus_Divorced': np.float64(0.015471839318872527), 'MaritalStatus_Married': np.float64(0.01437232700087895), 'MaritalStatus_Single': np.float64(0.0020028192880136427), 'LoanPurpose_Auto': np.float64(0.0010864940633877216), 'LoanPurpose_Business': np.float64(0.009584107642616076), 'LoanPurpose_Education': np.float64(0.0012740052454056888), 'LoanPurpose_Home': np.float64(0.007746602319068515), 'LoanPurpose_Other': np.float64(0.0011607928035532074), 'Education_Bachelors': np.float64(0.0010766146081742692), 'Education_High School': np.float64(0.02057266170130518), 'Education_Masters': np.float64(0.0028674973968657053), 'Education_PhD': np.float64(0.005060004756494551)}\n"
     ]
    }
   ],
   "source": [
    "import shap\n",
    "\n",
    "explainer = shap.Explainer(model)\n",
    "shap_values = explainer(inp)\n",
    "\n",
    "feature_importance = np.abs(shap_values.values).mean(axis=1)\n",
    "# shap.summary_plot(shap_values.values, columnNames)\n",
    "# print(list(zip(columnNames,shap_values.values)))\n",
    "feature_importance_dict = dict(zip(columnNames, feature_importance))\n",
    "print(feature_importance_dict)"
   ]
  },
  {
   "cell_type": "code",
   "execution_count": 20,
   "metadata": {},
   "outputs": [
    {
     "data": {
      "text/plain": [
       "28"
      ]
     },
     "execution_count": 20,
     "metadata": {},
     "output_type": "execute_result"
    }
   ],
   "source": [
    "len(feature_importance)"
   ]
  },
  {
   "cell_type": "code",
   "execution_count": 16,
   "metadata": {},
   "outputs": [
    {
     "data": {
      "text/plain": [
       "array([0.13254792, 0.03525407, 0.01220361, 0.01944016, 0.06622955,\n",
       "       0.02259081, 0.05757943, 0.011455  , 0.03025356, 0.00989665,\n",
       "       0.0277373 , 0.00569106, 0.01344292, 0.00362956, 0.00885461,\n",
       "       0.00512731, 0.01547184, 0.01437233, 0.00200282, 0.00108649,\n",
       "       0.00958411, 0.00127401, 0.0077466 , 0.00116079, 0.00107661,\n",
       "       0.02057266, 0.0028675 , 0.00506   ])"
      ]
     },
     "execution_count": 16,
     "metadata": {},
     "output_type": "execute_result"
    }
   ],
   "source": [
    "np.abs(shap_values.values).mean(axis=1)"
   ]
  },
  {
   "cell_type": "code",
   "execution_count": null,
   "metadata": {
    "id": "O20nleGm8-uK"
   },
   "outputs": [],
   "source": [
    "\"You are an Underwriter at an NBFC who needs to create a report on wheather to give a loan or not and stating its reasons,\\\n",
    "you have done the necessary research and considered 28 factors and have been given the  of influence\\\n",
    "\""
   ]
  },
  {
   "cell_type": "code",
   "execution_count": 16,
   "metadata": {
    "id": "hP-H7iDsEV1I"
   },
   "outputs": [
    {
     "name": "stdout",
     "output_type": "stream",
     "text": [
      "28\n"
     ]
    }
   ],
   "source": [
    "l=[[-0.13254792,  0.13254792],\n",
    "       [ 0.03525407, -0.03525407],\n",
    "       [-0.01220361,  0.01220361],\n",
    "       [-0.01944016,  0.01944016],\n",
    "       [-0.06622955,  0.06622955],\n",
    "       [-0.02259081,  0.02259081],\n",
    "       [ 0.05757943, -0.05757943],\n",
    "       [-0.011455  ,  0.011455  ],\n",
    "       [-0.03025356,  0.03025356],\n",
    "       [-0.00989665,  0.00989665],\n",
    "       [-0.0277373 ,  0.0277373 ],\n",
    "       [ 0.00569106, -0.00569106],\n",
    "       [-0.01344292,  0.01344292],\n",
    "       [-0.00362956,  0.00362956],\n",
    "       [-0.00885461,  0.00885461],\n",
    "       [ 0.00512731, -0.00512731],\n",
    "       [-0.01547184,  0.01547184],\n",
    "       [-0.01437233,  0.01437233],\n",
    "       [-0.00200282,  0.00200282],\n",
    "       [-0.00108649,  0.00108649],\n",
    "       [-0.00958411,  0.00958411],\n",
    "       [-0.00127401,  0.00127401],\n",
    "       [-0.0077466 ,  0.0077466 ],\n",
    "       [-0.00116079,  0.00116079],\n",
    "       [-0.00107661,  0.00107661],\n",
    "       [-0.02057266,  0.02057266],\n",
    "       [-0.0028675 ,  0.0028675 ],\n",
    "       [-0.00506   ,  0.00506   ]]\n",
    "print(len(l))"
   ]
  },
  {
   "cell_type": "code",
   "execution_count": 25,
   "metadata": {},
   "outputs": [],
   "source": [
    "l=[35, 71950, 126489, 577, 116, 2, 13.12, 60, 0.43, 1, 1, 0, True,\n",
    "       False, False, False, False, True, False, False, True, False, False,\n",
    "       False, False, False, True, False]"
   ]
  },
  {
   "cell_type": "code",
   "execution_count": null,
   "metadata": {},
   "outputs": [],
   "source": []
  }
 ],
 "metadata": {
  "colab": {
   "provenance": []
  },
  "kernelspec": {
   "display_name": "Python 3 (ipykernel)",
   "language": "python",
   "name": "python3"
  },
  "language_info": {
   "codemirror_mode": {
    "name": "ipython",
    "version": 3
   },
   "file_extension": ".py",
   "mimetype": "text/x-python",
   "name": "python",
   "nbconvert_exporter": "python",
   "pygments_lexer": "ipython3",
   "version": "3.12.6"
  }
 },
 "nbformat": 4,
 "nbformat_minor": 4
}
